{
 "cells": [
  {
   "cell_type": "code",
   "execution_count": 64,
   "metadata": {},
   "outputs": [],
   "source": [
    "import os\n",
    "import time\n",
    "\n",
    "import re\n",
    "import requests\n",
    "import warnings\n",
    "\n",
    "import langchain\n",
    "from langchain.llms import OpenAI\n",
    "from langchain.agents import load_tools, AgentType, Tool, initialize_agent\n",
    "os.environ[\"OPENAI_API_KEY\"] = \"OPEN_API_KEY\"\n",
    "from bs4 import BeautifulSoup\n",
    "\n",
    "warnings.filterwarnings(\"ignore\")"
   ]
  },
  {
   "cell_type": "code",
   "execution_count": 65,
   "metadata": {},
   "outputs": [],
   "source": [
    "\n",
    "llm=OpenAI(temperature=0,\n",
    "           model_name=\"gpt-3.5-turbo-16k-0613\")"
   ]
  },
  {
   "cell_type": "markdown",
   "metadata": {},
   "source": [
    "### Defining the custom Tools"
   ]
  },
  {
   "cell_type": "code",
   "execution_count": 66,
   "metadata": {},
   "outputs": [
    {
     "name": "stdout",
     "output_type": "stream",
     "text": [
      "Requirement already satisfied: yfinance in c:\\users\\vidya\\appdata\\local\\programs\\python\\python312\\lib\\site-packages (0.2.37)Note: you may need to restart the kernel to use updated packages.\n",
      "\n",
      "Requirement already satisfied: pandas>=1.3.0 in c:\\users\\vidya\\appdata\\roaming\\python\\python312\\site-packages (from yfinance) (2.1.3)\n",
      "Requirement already satisfied: numpy>=1.16.5 in c:\\users\\vidya\\appdata\\roaming\\python\\python312\\site-packages (from yfinance) (1.26.2)\n",
      "Requirement already satisfied: requests>=2.31 in c:\\users\\vidya\\appdata\\roaming\\python\\python312\\site-packages (from yfinance) (2.31.0)\n",
      "Requirement already satisfied: multitasking>=0.0.7 in c:\\users\\vidya\\appdata\\local\\programs\\python\\python312\\lib\\site-packages (from yfinance) (0.0.11)\n",
      "Requirement already satisfied: lxml>=4.9.1 in c:\\users\\vidya\\appdata\\roaming\\python\\python312\\site-packages (from yfinance) (4.9.4)\n",
      "Requirement already satisfied: appdirs>=1.4.4 in c:\\users\\vidya\\appdata\\local\\programs\\python\\python312\\lib\\site-packages (from yfinance) (1.4.4)\n",
      "Requirement already satisfied: pytz>=2022.5 in c:\\users\\vidya\\appdata\\roaming\\python\\python312\\site-packages (from yfinance) (2023.3.post1)\n",
      "Requirement already satisfied: frozendict>=2.3.4 in c:\\users\\vidya\\appdata\\local\\programs\\python\\python312\\lib\\site-packages (from yfinance) (2.4.1)\n",
      "Requirement already satisfied: peewee>=3.16.2 in c:\\users\\vidya\\appdata\\local\\programs\\python\\python312\\lib\\site-packages (from yfinance) (3.17.1)\n",
      "Requirement already satisfied: beautifulsoup4>=4.11.1 in c:\\users\\vidya\\appdata\\roaming\\python\\python312\\site-packages (from yfinance) (4.12.2)\n",
      "Requirement already satisfied: html5lib>=1.1 in c:\\users\\vidya\\appdata\\local\\programs\\python\\python312\\lib\\site-packages (from yfinance) (1.1)\n",
      "Requirement already satisfied: soupsieve>1.2 in c:\\users\\vidya\\appdata\\roaming\\python\\python312\\site-packages (from beautifulsoup4>=4.11.1->yfinance) (2.5)\n",
      "Requirement already satisfied: six>=1.9 in c:\\users\\vidya\\appdata\\roaming\\python\\python312\\site-packages (from html5lib>=1.1->yfinance) (1.16.0)\n",
      "Requirement already satisfied: webencodings in c:\\users\\vidya\\appdata\\local\\programs\\python\\python312\\lib\\site-packages (from html5lib>=1.1->yfinance) (0.5.1)\n",
      "Requirement already satisfied: python-dateutil>=2.8.2 in c:\\users\\vidya\\appdata\\roaming\\python\\python312\\site-packages (from pandas>=1.3.0->yfinance) (2.8.2)\n",
      "Requirement already satisfied: tzdata>=2022.1 in c:\\users\\vidya\\appdata\\roaming\\python\\python312\\site-packages (from pandas>=1.3.0->yfinance) (2023.3)\n",
      "Requirement already satisfied: charset-normalizer<4,>=2 in c:\\users\\vidya\\appdata\\roaming\\python\\python312\\site-packages (from requests>=2.31->yfinance) (3.3.2)\n",
      "Requirement already satisfied: idna<4,>=2.5 in c:\\users\\vidya\\appdata\\roaming\\python\\python312\\site-packages (from requests>=2.31->yfinance) (3.6)\n",
      "Requirement already satisfied: urllib3<3,>=1.21.1 in c:\\users\\vidya\\appdata\\roaming\\python\\python312\\site-packages (from requests>=2.31->yfinance) (1.26.18)\n",
      "Requirement already satisfied: certifi>=2017.4.17 in c:\\users\\vidya\\appdata\\roaming\\python\\python312\\site-packages (from requests>=2.31->yfinance) (2023.11.17)\n"
     ]
    }
   ],
   "source": [
    "pip install yfinance"
   ]
  },
  {
   "cell_type": "code",
   "execution_count": 67,
   "metadata": {},
   "outputs": [
    {
     "name": "stdout",
     "output_type": "stream",
     "text": [
      "                  Close   Volume\n",
      "Date                            \n",
      "2024-05-13  3253.649902  1294603\n",
      "2024-05-14  3288.899902   620163\n",
      "2024-05-15  3268.550049   657036\n",
      "2024-05-16  3333.899902  1404971\n",
      "2024-05-17  3323.800049   196207\n"
     ]
    }
   ],
   "source": [
    "import yfinance as yf\n",
    "\n",
    "\n",
    "\n",
    "def get_stock_price(ticker,history=5):\n",
    "    \n",
    "    if \".\" in ticker:\n",
    "        ticker=ticker.split(\".\")[0]\n",
    "    ticker=ticker+\".NS\"\n",
    "    stock = yf.Ticker(ticker)\n",
    "    df = stock.history(period=\"1y\")\n",
    "    df=df[[\"Close\",\"Volume\"]]\n",
    "    df.index=[str(x).split()[0] for x in list(df.index)]\n",
    "    df.index.rename(\"Date\",inplace=True)\n",
    "    df=df[-history:]\n",
    "    \n",
    "    \n",
    "    return df.to_string()\n",
    "\n",
    "print(get_stock_price(\"TITAN\"))"
   ]
  },
  {
   "cell_type": "code",
   "execution_count": 68,
   "metadata": {},
   "outputs": [
    {
     "name": "stdout",
     "output_type": "stream",
     "text": [
      "Recent News:\n",
      "\n",
      "0. Asian Paints Share Price Live blog for 17 May 2024 | Mint\n",
      "1. Asian Paints Share Price Live Updates: Asian Paints Records 3-Month Return \n",
      "of -6.44% as Closing Price St...\n",
      "2. Asian Paints Share Price Highlights : Asian Paints closed today at \n",
      "₹2814.25, up 0.05% from yesterday's ₹2812.95 | Mint\n",
      "\n"
     ]
    }
   ],
   "source": [
    "\n",
    "\n",
    "def google_query(search_term):\n",
    "    if \"news\" not in search_term:\n",
    "        search_term=search_term+\" stock news\"\n",
    "    url=f\"https://www.google.com/search?q={search_term}&cr=countryIN\"\n",
    "    url=re.sub(r\"\\s\",\"+\",url)\n",
    "    return url\n",
    "\n",
    "def get_recent_stock_news(company_name):\n",
    "\n",
    "    headers={'User-Agent': 'Mozilla/5.0 (Windows NT 10.0; Win64; x64) AppleWebKit/537.36 (KHTML, like Gecko) Chrome/102.0.0.0 Safari/537.36'}\n",
    "\n",
    "    g_query=google_query(company_name)\n",
    "    res=requests.get(g_query,headers=headers).text\n",
    "    soup=BeautifulSoup(res,\"html.parser\")\n",
    "    news=[]\n",
    "    for n in soup.find_all(\"div\",\"n0jPhd ynAwRc tNxQIb nDgy9d\"):\n",
    "        news.append(n.text)\n",
    "    for n in soup.find_all(\"div\",\"IJl0Z\"):\n",
    "        news.append(n.text)\n",
    "\n",
    "\n",
    "    if len(news)>6:\n",
    "        news=news[:4]\n",
    "    else:\n",
    "        news=news\n",
    "    news_string=\"\"\n",
    "    for i,n in enumerate(news):\n",
    "        news_string+=f\"{i}. {n}\\n\"\n",
    "    top5_news=\"Recent News:\\n\\n\"+news_string\n",
    "    \n",
    "    return top5_news\n",
    "\n",
    "\n",
    "print(get_recent_stock_news(\"Asian paints\"))"
   ]
  },
  {
   "cell_type": "code",
   "execution_count": 69,
   "metadata": {},
   "outputs": [
    {
     "name": "stdout",
     "output_type": "stream",
     "text": [
      "                                                          2024-03-31       2023-03-31       2022-03-31\n",
      "Ordinary Shares Number                                  3195339547.0     3196991847.0     3196991847.0\n",
      "Share Issued                                            3195339547.0     3196991847.0     3196991847.0\n",
      "Net Debt                                              461554700000.0   447847600000.0   445128500000.0\n",
      "Total Debt                                            536894500000.0   529230900000.0   511952100000.0\n",
      "Tangible Book Value                                   291385400000.0   255477800000.0   192170700000.0\n",
      "Invested Capital                                      818351000000.0   777619500000.0   700316500000.0\n",
      "Working Capital                                      -127861500000.0  -130013600000.0  -141013900000.0\n",
      "Net Tangible Assets                                   291385400000.0   255477800000.0   192170700000.0\n",
      "Capital Lease Obligations                              42096400000.0    39485700000.0    36051200000.0\n",
      "Common Stock Equity                                   323552900000.0   287874300000.0   224415600000.0\n",
      "Total Capitalization                                  697475400000.0   594959200000.0   551712600000.0\n",
      "Total Equity Gross Minority Interest                  383327700000.0   342041200000.0   260284600000.0\n",
      "Minority Interest                                      59774800000.0    54166900000.0    35869000000.0\n",
      "Stockholders Equity                                   323552900000.0   287874300000.0   224415600000.0\n",
      "Other Equity Interest                                 320357300000.0   284678700000.0   221220000000.0\n",
      "Capital Stock                                           3195600000.0     3195600000.0     3195600000.0\n",
      "Common Stock                                            3195600000.0     3195600000.0     3195600000.0\n",
      "Total Liabilities Net Minority Interest              1012207200000.0   941447700000.0   868561400000.0\n",
      "Total Non Current Liabilities Net Minority Interest   599691900000.0   500519900000.0   481224900000.0\n",
      "Other Non Current Liabilities                         126895000000.0    12759800000.0     6907400000.0\n",
      "Non Current Deferred Taxes Liabilities                 27723300000.0    19193700000.0    10333000000.0\n",
      "Long Term Debt And Capital Lease Obligation           411347300000.0   342191900000.0   359374900000.0\n",
      "Long Term Capital Lease Obligation                     37424800000.0    35107000000.0    32077900000.0\n",
      "Long Term Debt                                        373922500000.0   307084900000.0   327297000000.0\n",
      "Long Term Provisions                                   18650800000.0    14200200000.0    12181800000.0\n",
      "Current Liabilities                                   412515300000.0   440927800000.0   387336500000.0\n",
      "Other Current Liabilities                              38798400000.0    46185300000.0    34063600000.0\n",
      "Current Debt And Capital Lease Obligation             125547200000.0   187039000000.0   152577200000.0\n",
      "Current Capital Lease Obligation                        4671600000.0     4378700000.0     3973300000.0\n",
      "Current Debt                                          120875600000.0   182660300000.0   148603900000.0\n",
      "Current Provisions                                      2943400000.0     3110700000.0     3448200000.0\n",
      "Payables                                               96129100000.0   132228100000.0   144512800000.0\n",
      "Total Tax Payable                                       2915400000.0     2179600000.0     1470000000.0\n",
      "Accounts Payable                                       93213700000.0    74072000000.0   104596000000.0\n",
      "Total Assets                                         1395534900000.0  1283488900000.0  1128846000000.0\n",
      "Total Non Current Assets                             1110881100000.0   972574700000.0   882523400000.0\n",
      "Other Non Current Assets                              134722300000.0    84334300000.0    68105700000.0\n",
      "Non Current Deferred Taxes Assets                       4990900000.0     2529000000.0     3346000000.0\n",
      "Investmentin Financial Assets                          39390900000.0    13012100000.0    11698100000.0\n",
      "Available For Sale Securities                          39390900000.0    12996600000.0    11696500000.0\n",
      "Long Term Equity Investment                           129835100000.0   142188800000.0   125800000000.0\n",
      "Goodwill And Other Intangible Assets                   32167500000.0    32396500000.0    32244900000.0\n",
      "Other Intangible Assets                                14592900000.0    13813400000.0    13661800000.0\n",
      "Goodwill                                               17574600000.0    18583100000.0    18583100000.0\n",
      "Net PPE                                               755541200000.0   638833700000.0   588000600000.0\n",
      "Gross PPE                                             755541200000.0   912166800000.0   829657000000.0\n",
      "Construction In Progress                              115613100000.0    53763600000.0    46351000000.0\n",
      "Other Properties                                      639928100000.0   214580000000.0   180547100000.0\n",
      "Current Assets                                        284653800000.0   310914200000.0   246322600000.0\n",
      "Other Current Assets                                   17043000000.0    13287200000.0    14796700000.0\n",
      "Assets Held For Sale Current                           12009900000.0    32999400000.0    30468300000.0\n",
      "Inventory                                              44196300000.0    39428800000.0    42315200000.0\n",
      "Other Receivables                                      25633700000.0    26334000000.0    26758800000.0\n",
      "Taxes Receivable                                          82000000.0        9600000.0        2900000.0\n",
      "Accounts Receivable                                    74016900000.0    69521500000.0    59797400000.0\n",
      "Cash Cash Equivalents And Short Term Investments      111012800000.0    53393600000.0    34877600000.0\n",
      "Other Short Term Investments                           77769400000.0    11496000000.0     4105200000.0\n",
      "Cash And Cash Equivalents                              33243400000.0    41897600000.0    30772400000.0\n"
     ]
    }
   ],
   "source": [
    "\n",
    "\n",
    "def get_financial_statements(ticker):\n",
    "    \n",
    "    if \".\" in ticker:\n",
    "        ticker=ticker.split(\".\")[0]\n",
    "    else:\n",
    "        ticker=ticker\n",
    "    ticker=ticker+\".NS\"    \n",
    "    company = yf.Ticker(ticker)\n",
    "    balance_sheet = company.balance_sheet\n",
    "    if balance_sheet.shape[1]>=3:\n",
    "        balance_sheet=balance_sheet.iloc[:,:3]   \n",
    "    balance_sheet=balance_sheet.dropna(how=\"any\")\n",
    "    balance_sheet = balance_sheet.to_string()\n",
    "    \n",
    "    return balance_sheet\n",
    "print(get_financial_statements(\"TATAPOWER.NS\"))"
   ]
  },
  {
   "cell_type": "markdown",
   "metadata": {},
   "source": [
    "### Custom tools"
   ]
  },
  {
   "cell_type": "markdown",
   "metadata": {},
   "source": [
    "##### Approach 2"
   ]
  },
  {
   "cell_type": "code",
   "execution_count": 70,
   "metadata": {},
   "outputs": [],
   "source": [
    "import openai\n",
    "\n",
    "import os\n",
    "os.environ[\"OPENAI_API_KEY\"] = \"OPEN_API_KEY\"\n",
    "openai.api_key=\"OPEN_API_KEY\"\n"
   ]
  },
  {
   "cell_type": "code",
   "execution_count": 71,
   "metadata": {},
   "outputs": [],
   "source": [
    "from langchain.llms import OpenAI\n",
    "\n",
    "llm=OpenAI(temperature=0,\n",
    "           model_name=\"gpt-3.5-turbo-16k-0613\")"
   ]
  },
  {
   "cell_type": "code",
   "execution_count": 72,
   "metadata": {},
   "outputs": [
    {
     "data": {
      "text/plain": [
       "('Paytm', 'PAYTM')"
      ]
     },
     "execution_count": 72,
     "metadata": {},
     "output_type": "execute_result"
    }
   ],
   "source": [
    "\n",
    "import json\n",
    "function=[\n",
    "        {\n",
    "        \"name\": \"get_company_Stock_ticker\",\n",
    "        \"description\": \"This will get the indian NSE/BSE stock ticker of the company\",\n",
    "        \"parameters\": {\n",
    "            \"type\": \"object\",\n",
    "            \"properties\": {\n",
    "                \"ticker_symbol\": {\n",
    "                    \"type\": \"string\",\n",
    "                    \"description\": \"This is the stock symbol of the company.\",\n",
    "                },\n",
    "\n",
    "                \"company_name\": {\n",
    "                    \"type\": \"string\",\n",
    "                    \"description\": \"This is the name of the company given in query\",\n",
    "                }\n",
    "            },\n",
    "            \"required\": [\"company_name\",\"ticker_symbol\"],\n",
    "        },\n",
    "    }\n",
    "]\n",
    "\n",
    "\n",
    "\n",
    "def get_stock_ticker(query):\n",
    "    response = openai.ChatCompletion.create(\n",
    "            model=\"gpt-3.5-turbo\",\n",
    "            temperature=0,\n",
    "            messages=[{\n",
    "                \"role\":\"user\",\n",
    "                \"content\":f\"Given the user request, what is the comapany name and the company stock ticker ?: {query}?\"\n",
    "            }],\n",
    "            functions=function,\n",
    "            function_call={\"name\": \"get_company_Stock_ticker\"},\n",
    "    )\n",
    "    message = response[\"choices\"][0][\"message\"]\n",
    "    arguments = json.loads(message[\"function_call\"][\"arguments\"])\n",
    "    company_name = arguments[\"company_name\"]\n",
    "    company_ticker = arguments[\"ticker_symbol\"]\n",
    "    return company_name,company_ticker\n",
    "\n",
    "get_stock_ticker(\"How is ths stock of Paytm doing?\")"
   ]
  },
  {
   "cell_type": "code",
   "execution_count": 73,
   "metadata": {},
   "outputs": [],
   "source": [
    "def Anazlyze_stock(query):\n",
    "    Company_name, ticker = get_stock_ticker(query)\n",
    "    print({\"Query\": query, \"Company_name\": Company_name, \"Ticker\": ticker})\n",
    "    \n",
    "    stock_data = get_stock_price(ticker, history=10)\n",
    "    stock_financials = get_financial_statements(ticker)\n",
    "    stock_news = get_recent_stock_news(Company_name)\n",
    "    \n",
    "    available_information = f\"Stock Financials: {stock_financials}\\n\\nStock News: {stock_news}\"\n",
    "\n",
    "    print(\"\\n\\nAnalyzing.....\\n\")\n",
    "    \n",
    "    analysis = llm(\n",
    "        f\"Give detail stock analysis, Use the available data and provide investment recommendation. \"\n",
    "        f\"The user is fully aware about the investment risk, don't include any kind of warning like \"\n",
    "        f\"'It is recommended to conduct further research and analysis or consult with a financial advisor before making an investment decision' in the answer. \"\n",
    "        f\"User question: {query}. \"\n",
    "        f\"You have the following information available about {Company_name}. \"\n",
    "        f\"Write (5-8) pointwise investment analysis to answer user query, At the end conclude with proper explanation. \"\n",
    "        f\"Try to give positives and negatives: {available_information}\"\n",
    "    )\n",
    "    \n",
    "    print(analysis)\n",
    "\n",
    "    return analysis\n"
   ]
  },
  {
   "cell_type": "code",
   "execution_count": 74,
   "metadata": {},
   "outputs": [
    {
     "name": "stdout",
     "output_type": "stream",
     "text": [
      "{'Query': 'Shall I invest in Adani power right now?', 'Company_name': 'Adani Power', 'Ticker': 'ADANIPOWER.NS'}\n",
      "\n",
      "\n",
      "Analyzing.....\n",
      "\n",
      "1. Adani Power has shown positive financial growth over the past three years, with an increase in total assets from INR 819.81 billion in 2022 to INR 923.25 billion in 2024. This indicates a growing business and potential for future expansion.\n",
      "\n",
      "2. The company's net tangible assets have also increased from INR 185.01 billion in 2022 to INR 429.42 billion in 2024, indicating a strong financial position and a solid foundation for growth.\n",
      "\n",
      "3. Adani Power has a large amount of debt, with total debt of INR 487.44 billion in 2022 and INR 346.16 billion in 2024. This high level of debt may pose a risk to the company's financial stability and could impact its ability to generate profits in the future.\n",
      "\n",
      "4. The stock has recently reached a lifetime high, indicating positive investor sentiment and potential for further growth. Experts predict a 25% upside in the stock price, suggesting a favorable investment opportunity.\n",
      "\n",
      "5. Adani Power is part of the Adani Group, which has a strong presence in the power sector and a track record of successful projects. This provides a level of confidence in the company's ability to execute its business plans and generate returns for investors.\n",
      "\n",
      "6. The company's working capital has shown improvement, with a positive working capital of INR 97.98 billion in 2024 compared to a negative working capital of INR 9.16 billion in 2022. This indicates better management of short-term assets and liabilities.\n",
      "\n",
      "7. Adani Power has a significant amount of cash and cash equivalents, with INR 11.36 billion in 2024. This provides the company with liquidity and the ability to fund its operations and investments.\n",
      "\n",
      "Based on the available data, it appears that Adani Power has shown positive financial growth and has the potential for further upside. However, the high level of debt should be considered as a risk factor. Investors should carefully evaluate their risk tolerance and conduct further research before making an investment decision.\n"
     ]
    }
   ],
   "source": [
    "\n",
    "out=Anazlyze_stock(\"Shall I invest in Adani power right now?\")    \n"
   ]
  },
  {
   "cell_type": "code",
   "execution_count": 75,
   "metadata": {},
   "outputs": [
    {
     "name": "stdout",
     "output_type": "stream",
     "text": [
      "{'Query': 'Is it a good time to invest in Yes Bank?', 'Company_name': 'Yes Bank', 'Ticker': 'YESBANK'}\n",
      "\n",
      "\n",
      "Analyzing.....\n",
      "\n",
      "1. Ordinary Shares Number: The number of ordinary shares of Yes Bank has remained relatively stable over the past three years, indicating no significant dilution or increase in the company's equity base.\n",
      "\n",
      "2. Net Debt: Yes Bank's net debt has increased significantly from 13.29 billion in 2022 to 208.37 billion in 2023, and further to 611.89 billion in 2024. This indicates a higher level of debt burden on the company, which may impact its financial stability and ability to generate profits.\n",
      "\n",
      "3. Tangible Book Value: The tangible book value of Yes Bank has shown a consistent increase over the past three years, from 336.99 billion in 2022 to 407.18 billion in 2023, and further to 421.55 billion in 2024. This indicates that the company's assets are growing and its financial position is improving.\n",
      "\n",
      "4. Total Capitalization: Yes Bank's total capitalization has also shown a consistent increase over the past three years, indicating that the company has been able to raise capital and strengthen its financial position.\n",
      "\n",
      "5. Cash and Cash Equivalents: Yes Bank's cash and cash equivalents have fluctuated over the past three years, with a significant decrease from 639.52 billion in 2022 to 501.80 billion in 2023, and further to 193.18 billion in 2024. This indicates a potential liquidity challenge for the company.\n",
      "\n",
      "6. Stock News: Recent news suggests that Yes Bank's share price has increased slightly by 0.35% and closed at ₹22.67. However, it is important to note that this information alone may not be sufficient to make an investment decision.\n",
      "\n",
      "Based on the available data and analysis, it is important to consider the following points before making an investment decision in Yes Bank:\n",
      "\n",
      "- Yes Bank has shown an increase in its tangible book value and total capitalization, indicating potential growth and financial stability.\n",
      "- However, the significant increase in net debt and decrease in cash and cash equivalents raise concerns about the company's financial health and liquidity position.\n",
      "- The recent news of a slight increase in share price may indicate positive market sentiment, but it should not be the sole basis for investment decision-making.\n",
      "\n",
      "In conclusion, investing in Yes Bank at this time carries both positive and negative factors. It is recommended to conduct further research and analysis or consult with a financial advisor to fully assess the investment risk and make an informed decision.\n"
     ]
    },
    {
     "data": {
      "text/plain": [
       "\"1. Ordinary Shares Number: The number of ordinary shares of Yes Bank has remained relatively stable over the past three years, indicating no significant dilution or increase in the company's equity base.\\n\\n2. Net Debt: Yes Bank's net debt has increased significantly from 13.29 billion in 2022 to 208.37 billion in 2023, and further to 611.89 billion in 2024. This indicates a higher level of debt burden on the company, which may impact its financial stability and ability to generate profits.\\n\\n3. Tangible Book Value: The tangible book value of Yes Bank has shown a consistent increase over the past three years, from 336.99 billion in 2022 to 407.18 billion in 2023, and further to 421.55 billion in 2024. This indicates that the company's assets are growing and its financial position is improving.\\n\\n4. Total Capitalization: Yes Bank's total capitalization has also shown a consistent increase over the past three years, indicating that the company has been able to raise capital and strengthen its financial position.\\n\\n5. Cash and Cash Equivalents: Yes Bank's cash and cash equivalents have fluctuated over the past three years, with a significant decrease from 639.52 billion in 2022 to 501.80 billion in 2023, and further to 193.18 billion in 2024. This indicates a potential liquidity challenge for the company.\\n\\n6. Stock News: Recent news suggests that Yes Bank's share price has increased slightly by 0.35% and closed at ₹22.67. However, it is important to note that this information alone may not be sufficient to make an investment decision.\\n\\nBased on the available data and analysis, it is important to consider the following points before making an investment decision in Yes Bank:\\n\\n- Yes Bank has shown an increase in its tangible book value and total capitalization, indicating potential growth and financial stability.\\n- However, the significant increase in net debt and decrease in cash and cash equivalents raise concerns about the company's financial health and liquidity position.\\n- The recent news of a slight increase in share price may indicate positive market sentiment, but it should not be the sole basis for investment decision-making.\\n\\nIn conclusion, investing in Yes Bank at this time carries both positive and negative factors. It is recommended to conduct further research and analysis or consult with a financial advisor to fully assess the investment risk and make an informed decision.\""
      ]
     },
     "execution_count": 75,
     "metadata": {},
     "output_type": "execute_result"
    }
   ],
   "source": [
    "Anazlyze_stock(\"Is it a good time to invest in Yes Bank?\")    "
   ]
  },
  {
   "cell_type": "code",
   "execution_count": 76,
   "metadata": {},
   "outputs": [
    {
     "name": "stdout",
     "output_type": "stream",
     "text": [
      "{'Query': 'How vednata share is doing?', 'Company_name': 'Vedanta', 'Ticker': 'VEDL'}\n",
      "\n",
      "\n",
      "Analyzing.....\n",
      "\n",
      "1. Vedanta has recently approved a fundraise of Rs 8,500 crore and declared an interim dividend of Rs 11 per share. This indicates that the company is taking steps to strengthen its financial position and provide returns to its shareholders.\n",
      "\n",
      "2. The stock has witnessed a significant rise of 77% in the past two months. While this may be seen as a positive indicator of investor confidence, it also raises concerns about the stock being overbought and the potential for a correction in the near future.\n",
      "\n",
      "3. The company's financials show a consistent increase in net debt over the past three years. This indicates that Vedanta has been relying on debt to finance its operations and investments. High levels of debt can pose a risk to the company's financial stability and ability to generate profits.\n",
      "\n",
      "4. On the positive side, Vedanta's tangible book value has shown a consistent increase over the past three years. This indicates that the company has been able to generate value from its tangible assets and has the potential for future growth.\n",
      "\n",
      "5. The company's working capital has been negative for the past two years, indicating that it may be facing liquidity challenges. Negative working capital can impact the company's ability to meet its short-term obligations and may require additional financing.\n",
      "\n",
      "6. Vedanta's total equity has shown a consistent increase over the past three years, indicating that the company has been able to generate value for its shareholders. However, it is important to note that a significant portion of the equity is attributed to minority interest, which may impact the control and decision-making power of the company.\n",
      "\n",
      "7. The stock news suggests that Vedanta is being closely watched by investors and analysts. While the recent rise in the stock price may be seen as a positive indicator, it is important to consider the potential for a correction and the overall market conditions.\n",
      "\n",
      "In conclusion, Vedanta's stock analysis shows a mix of positives and negatives. The company's efforts to raise funds and provide dividends indicate a focus on shareholder value. However, the high levels of debt and negative working capital raise concerns about the company's financial stability. Investors should carefully consider these factors and conduct further research before making an investment decision.\n"
     ]
    },
    {
     "data": {
      "text/plain": [
       "\"1. Vedanta has recently approved a fundraise of Rs 8,500 crore and declared an interim dividend of Rs 11 per share. This indicates that the company is taking steps to strengthen its financial position and provide returns to its shareholders.\\n\\n2. The stock has witnessed a significant rise of 77% in the past two months. While this may be seen as a positive indicator of investor confidence, it also raises concerns about the stock being overbought and the potential for a correction in the near future.\\n\\n3. The company's financials show a consistent increase in net debt over the past three years. This indicates that Vedanta has been relying on debt to finance its operations and investments. High levels of debt can pose a risk to the company's financial stability and ability to generate profits.\\n\\n4. On the positive side, Vedanta's tangible book value has shown a consistent increase over the past three years. This indicates that the company has been able to generate value from its tangible assets and has the potential for future growth.\\n\\n5. The company's working capital has been negative for the past two years, indicating that it may be facing liquidity challenges. Negative working capital can impact the company's ability to meet its short-term obligations and may require additional financing.\\n\\n6. Vedanta's total equity has shown a consistent increase over the past three years, indicating that the company has been able to generate value for its shareholders. However, it is important to note that a significant portion of the equity is attributed to minority interest, which may impact the control and decision-making power of the company.\\n\\n7. The stock news suggests that Vedanta is being closely watched by investors and analysts. While the recent rise in the stock price may be seen as a positive indicator, it is important to consider the potential for a correction and the overall market conditions.\\n\\nIn conclusion, Vedanta's stock analysis shows a mix of positives and negatives. The company's efforts to raise funds and provide dividends indicate a focus on shareholder value. However, the high levels of debt and negative working capital raise concerns about the company's financial stability. Investors should carefully consider these factors and conduct further research before making an investment decision.\""
      ]
     },
     "execution_count": 76,
     "metadata": {},
     "output_type": "execute_result"
    }
   ],
   "source": [
    "Anazlyze_stock(\"How vednata share is doing?\")    "
   ]
  }
 ],
 "metadata": {
  "kernelspec": {
   "display_name": "wsl_env",
   "language": "python",
   "name": "python3"
  },
  "language_info": {
   "codemirror_mode": {
    "name": "ipython",
    "version": 3
   },
   "file_extension": ".py",
   "mimetype": "text/x-python",
   "name": "python",
   "nbconvert_exporter": "python",
   "pygments_lexer": "ipython3",
   "version": "3.12.1"
  },
  "orig_nbformat": 4
 },
 "nbformat": 4,
 "nbformat_minor": 2
}
